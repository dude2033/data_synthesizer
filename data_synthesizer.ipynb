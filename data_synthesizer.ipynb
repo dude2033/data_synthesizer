{
 "cells": [
  {
   "cell_type": "code",
   "execution_count": 71,
   "metadata": {},
   "outputs": [
    {
     "name": "stdout",
     "output_type": "stream",
     "text": [
      "Requirement already satisfied: sdv==0.18.0 in c:\\users\\radia\\miniconda3\\lib\\site-packages (0.18.0)\n",
      "Requirement already satisfied: ctgan<0.8,>=0.7.0 in c:\\users\\radia\\miniconda3\\lib\\site-packages (from sdv==0.18.0) (0.7.1)\n",
      "Requirement already satisfied: rdt<2,>=1.3.0 in c:\\users\\radia\\miniconda3\\lib\\site-packages (from sdv==0.18.0) (1.3.0)\n",
      "Requirement already satisfied: Faker<15,>=10 in c:\\users\\radia\\miniconda3\\lib\\site-packages (from sdv==0.18.0) (14.2.1)\n",
      "Requirement already satisfied: tqdm<5,>=4.15 in c:\\users\\radia\\miniconda3\\lib\\site-packages (from sdv==0.18.0) (4.65.0)\n",
      "Requirement already satisfied: cloudpickle<3.0,>=2.1.0 in c:\\users\\radia\\miniconda3\\lib\\site-packages (from sdv==0.18.0) (2.2.1)\n",
      "Requirement already satisfied: copulas<0.9,>=0.8.0 in c:\\users\\radia\\miniconda3\\lib\\site-packages (from sdv==0.18.0) (0.8.0)\n",
      "Requirement already satisfied: pandas<2,>=1.1.3 in c:\\users\\radia\\miniconda3\\lib\\site-packages (from sdv==0.18.0) (1.4.0)\n",
      "Requirement already satisfied: numpy<2,>=1.20.0 in c:\\users\\radia\\miniconda3\\lib\\site-packages (from sdv==0.18.0) (1.22.4)\n",
      "Requirement already satisfied: graphviz<1,>=0.13.2 in c:\\users\\radia\\miniconda3\\lib\\site-packages (from sdv==0.18.0) (0.20.1)\n",
      "Requirement already satisfied: sdmetrics<0.10,>=0.9.0 in c:\\users\\radia\\miniconda3\\lib\\site-packages (from sdv==0.18.0) (0.9.1)\n",
      "Requirement already satisfied: deepecho<0.5,>=0.4.0 in c:\\users\\radia\\miniconda3\\lib\\site-packages (from sdv==0.18.0) (0.4.0)\n",
      "Requirement already satisfied: scipy<2,>=1.5.4 in c:\\users\\radia\\miniconda3\\lib\\site-packages (from copulas<0.9,>=0.8.0->sdv==0.18.0) (1.7.3)\n",
      "Requirement already satisfied: matplotlib<4,>=3.4.0 in c:\\users\\radia\\miniconda3\\lib\\site-packages (from copulas<0.9,>=0.8.0->sdv==0.18.0) (3.5.0)\n",
      "Requirement already satisfied: packaging<22,>=20 in c:\\users\\radia\\miniconda3\\lib\\site-packages (from ctgan<0.8,>=0.7.0->sdv==0.18.0) (21.3)\n",
      "Requirement already satisfied: torch<2,>=1.8.0 in c:\\users\\radia\\miniconda3\\lib\\site-packages (from ctgan<0.8,>=0.7.0->sdv==0.18.0) (1.10.2)\n",
      "Requirement already satisfied: python-dateutil>=2.4 in c:\\users\\radia\\miniconda3\\lib\\site-packages (from Faker<15,>=10->sdv==0.18.0) (2.8.2)\n",
      "Requirement already satisfied: pytz>=2020.1 in c:\\users\\radia\\miniconda3\\lib\\site-packages (from pandas<2,>=1.1.3->sdv==0.18.0) (2023.3)\n",
      "Requirement already satisfied: scikit-learn<2,>=0.24 in c:\\users\\radia\\miniconda3\\lib\\site-packages (from rdt<2,>=1.3.0->sdv==0.18.0) (1.1.0)\n",
      "Requirement already satisfied: psutil<6,>=5.7 in c:\\users\\radia\\miniconda3\\lib\\site-packages (from rdt<2,>=1.3.0->sdv==0.18.0) (5.9.4)\n",
      "Requirement already satisfied: plotly<6,>=5.10.0 in c:\\users\\radia\\miniconda3\\lib\\site-packages (from sdmetrics<0.10,>=0.9.0->sdv==0.18.0) (5.13.0)\n",
      "Requirement already satisfied: colorama in c:\\users\\radia\\miniconda3\\lib\\site-packages (from tqdm<5,>=4.15->sdv==0.18.0) (0.4.6)\n",
      "Requirement already satisfied: cycler>=0.10 in c:\\users\\radia\\miniconda3\\lib\\site-packages (from matplotlib<4,>=3.4.0->copulas<0.9,>=0.8.0->sdv==0.18.0) (0.11.0)\n",
      "Requirement already satisfied: setuptools-scm>=4 in c:\\users\\radia\\miniconda3\\lib\\site-packages (from matplotlib<4,>=3.4.0->copulas<0.9,>=0.8.0->sdv==0.18.0) (7.0.5)\n",
      "Requirement already satisfied: pillow>=6.2.0 in c:\\users\\radia\\miniconda3\\lib\\site-packages (from matplotlib<4,>=3.4.0->copulas<0.9,>=0.8.0->sdv==0.18.0) (9.4.0)\n",
      "Requirement already satisfied: pyparsing>=2.2.1 in c:\\users\\radia\\miniconda3\\lib\\site-packages (from matplotlib<4,>=3.4.0->copulas<0.9,>=0.8.0->sdv==0.18.0) (3.0.9)\n",
      "Requirement already satisfied: kiwisolver>=1.0.1 in c:\\users\\radia\\miniconda3\\lib\\site-packages (from matplotlib<4,>=3.4.0->copulas<0.9,>=0.8.0->sdv==0.18.0) (1.4.4)\n",
      "Requirement already satisfied: fonttools>=4.22.0 in c:\\users\\radia\\miniconda3\\lib\\site-packages (from matplotlib<4,>=3.4.0->copulas<0.9,>=0.8.0->sdv==0.18.0) (4.39.3)\n",
      "Requirement already satisfied: tenacity>=6.2.0 in c:\\users\\radia\\miniconda3\\lib\\site-packages (from plotly<6,>=5.10.0->sdmetrics<0.10,>=0.9.0->sdv==0.18.0) (8.2.2)\n",
      "Requirement already satisfied: six>=1.5 in c:\\users\\radia\\miniconda3\\lib\\site-packages (from python-dateutil>=2.4->Faker<15,>=10->sdv==0.18.0) (1.16.0)\n",
      "Requirement already satisfied: threadpoolctl>=2.0.0 in c:\\users\\radia\\miniconda3\\lib\\site-packages (from scikit-learn<2,>=0.24->rdt<2,>=1.3.0->sdv==0.18.0) (3.1.0)\n",
      "Requirement already satisfied: joblib>=1.0.0 in c:\\users\\radia\\miniconda3\\lib\\site-packages (from scikit-learn<2,>=0.24->rdt<2,>=1.3.0->sdv==0.18.0) (1.2.0)\n",
      "Requirement already satisfied: typing-extensions in c:\\users\\radia\\miniconda3\\lib\\site-packages (from torch<2,>=1.8.0->ctgan<0.8,>=0.7.0->sdv==0.18.0) (4.5.0)\n",
      "Requirement already satisfied: setuptools in c:\\users\\radia\\miniconda3\\lib\\site-packages (from setuptools-scm>=4->matplotlib<4,>=3.4.0->copulas<0.9,>=0.8.0->sdv==0.18.0) (63.4.1)\n",
      "Requirement already satisfied: tomli>=1.0.0 in c:\\users\\radia\\miniconda3\\lib\\site-packages (from setuptools-scm>=4->matplotlib<4,>=3.4.0->copulas<0.9,>=0.8.0->sdv==0.18.0) (2.0.1)\n",
      "Requirement already satisfied: sdmetrics==0.9.1 in c:\\users\\radia\\miniconda3\\lib\\site-packages (0.9.1)\n",
      "Requirement already satisfied: numpy<2,>=1.20.0 in c:\\users\\radia\\miniconda3\\lib\\site-packages (from sdmetrics==0.9.1) (1.22.4)\n",
      "Requirement already satisfied: pandas<2,>=1.1.3 in c:\\users\\radia\\miniconda3\\lib\\site-packages (from sdmetrics==0.9.1) (1.4.0)\n",
      "Requirement already satisfied: copulas<0.9,>=0.8.0 in c:\\users\\radia\\miniconda3\\lib\\site-packages (from sdmetrics==0.9.1) (0.8.0)\n",
      "Requirement already satisfied: scipy<2,>=1.5.4 in c:\\users\\radia\\miniconda3\\lib\\site-packages (from sdmetrics==0.9.1) (1.7.3)\n",
      "Requirement already satisfied: scikit-learn<2,>=0.24 in c:\\users\\radia\\miniconda3\\lib\\site-packages (from sdmetrics==0.9.1) (1.1.0)\n",
      "Requirement already satisfied: tqdm<5,>=4.15 in c:\\users\\radia\\miniconda3\\lib\\site-packages (from sdmetrics==0.9.1) (4.65.0)\n",
      "Requirement already satisfied: plotly<6,>=5.10.0 in c:\\users\\radia\\miniconda3\\lib\\site-packages (from sdmetrics==0.9.1) (5.13.0)\n",
      "Requirement already satisfied: matplotlib<4,>=3.4.0 in c:\\users\\radia\\miniconda3\\lib\\site-packages (from copulas<0.9,>=0.8.0->sdmetrics==0.9.1) (3.5.0)\n",
      "Requirement already satisfied: python-dateutil>=2.8.1 in c:\\users\\radia\\miniconda3\\lib\\site-packages (from pandas<2,>=1.1.3->sdmetrics==0.9.1) (2.8.2)\n",
      "Requirement already satisfied: pytz>=2020.1 in c:\\users\\radia\\miniconda3\\lib\\site-packages (from pandas<2,>=1.1.3->sdmetrics==0.9.1) (2023.3)\n",
      "Requirement already satisfied: tenacity>=6.2.0 in c:\\users\\radia\\miniconda3\\lib\\site-packages (from plotly<6,>=5.10.0->sdmetrics==0.9.1) (8.2.2)\n",
      "Requirement already satisfied: joblib>=1.0.0 in c:\\users\\radia\\miniconda3\\lib\\site-packages (from scikit-learn<2,>=0.24->sdmetrics==0.9.1) (1.2.0)\n",
      "Requirement already satisfied: threadpoolctl>=2.0.0 in c:\\users\\radia\\miniconda3\\lib\\site-packages (from scikit-learn<2,>=0.24->sdmetrics==0.9.1) (3.1.0)\n",
      "Requirement already satisfied: colorama in c:\\users\\radia\\miniconda3\\lib\\site-packages (from tqdm<5,>=4.15->sdmetrics==0.9.1) (0.4.6)\n",
      "Requirement already satisfied: cycler>=0.10 in c:\\users\\radia\\miniconda3\\lib\\site-packages (from matplotlib<4,>=3.4.0->copulas<0.9,>=0.8.0->sdmetrics==0.9.1) (0.11.0)\n",
      "Requirement already satisfied: packaging>=20.0 in c:\\users\\radia\\miniconda3\\lib\\site-packages (from matplotlib<4,>=3.4.0->copulas<0.9,>=0.8.0->sdmetrics==0.9.1) (21.3)\n",
      "Requirement already satisfied: pyparsing>=2.2.1 in c:\\users\\radia\\miniconda3\\lib\\site-packages (from matplotlib<4,>=3.4.0->copulas<0.9,>=0.8.0->sdmetrics==0.9.1) (3.0.9)\n",
      "Requirement already satisfied: fonttools>=4.22.0 in c:\\users\\radia\\miniconda3\\lib\\site-packages (from matplotlib<4,>=3.4.0->copulas<0.9,>=0.8.0->sdmetrics==0.9.1) (4.39.3)\n",
      "Requirement already satisfied: kiwisolver>=1.0.1 in c:\\users\\radia\\miniconda3\\lib\\site-packages (from matplotlib<4,>=3.4.0->copulas<0.9,>=0.8.0->sdmetrics==0.9.1) (1.4.4)\n",
      "Requirement already satisfied: pillow>=6.2.0 in c:\\users\\radia\\miniconda3\\lib\\site-packages (from matplotlib<4,>=3.4.0->copulas<0.9,>=0.8.0->sdmetrics==0.9.1) (9.4.0)\n",
      "Requirement already satisfied: setuptools-scm>=4 in c:\\users\\radia\\miniconda3\\lib\\site-packages (from matplotlib<4,>=3.4.0->copulas<0.9,>=0.8.0->sdmetrics==0.9.1) (7.0.5)\n",
      "Requirement already satisfied: six>=1.5 in c:\\users\\radia\\miniconda3\\lib\\site-packages (from python-dateutil>=2.8.1->pandas<2,>=1.1.3->sdmetrics==0.9.1) (1.16.0)\n",
      "Requirement already satisfied: typing-extensions in c:\\users\\radia\\miniconda3\\lib\\site-packages (from setuptools-scm>=4->matplotlib<4,>=3.4.0->copulas<0.9,>=0.8.0->sdmetrics==0.9.1) (4.5.0)\n",
      "Requirement already satisfied: setuptools in c:\\users\\radia\\miniconda3\\lib\\site-packages (from setuptools-scm>=4->matplotlib<4,>=3.4.0->copulas<0.9,>=0.8.0->sdmetrics==0.9.1) (63.4.1)\n",
      "Requirement already satisfied: tomli>=1.0.0 in c:\\users\\radia\\miniconda3\\lib\\site-packages (from setuptools-scm>=4->matplotlib<4,>=3.4.0->copulas<0.9,>=0.8.0->sdmetrics==0.9.1) (2.0.1)\n"
     ]
    }
   ],
   "source": [
    "import csv\n",
    "import pandas as pd\n",
    "\n",
    "# install libraries the first time you are using this notebook, \n",
    "# you can skip the installation process later by commenting the following three lines:\n",
    "!pip install \"sdv==0.18.0\" \n",
    "!pip install \"sdmetrics==0.9.1\"\n",
    "\n",
    "from sdv.metrics.tabular import KSComplement\n",
    "from sdv.lite import TabularPreset\n",
    "from sdv.evaluation import evaluate\n",
    "from dataclasses import dataclass"
   ]
  },
  {
   "cell_type": "code",
   "execution_count": 77,
   "metadata": {},
   "outputs": [
    {
     "name": "stdout",
     "output_type": "stream",
     "text": [
      "Initialization:\n",
      "config file read, input is taken from file with name ' combined.tsv '\n"
     ]
    }
   ],
   "source": [
    "# This Notebook uses a config file to create interpolated data from an input data set. \n",
    "# The interpolation is customizable by config params. See readme.md for more details.\n",
    "\n",
    "config = pd.read_json(\"config.json\") #config file(dictionary)\n",
    "data_file = config[\"Input File\"][0]\n",
    "\n",
    "target_file = config[\"Output File\"][0]\n",
    "data = pd.read_csv(str(data_file), sep=config[\"Input Column Separator\"][0])\n",
    "headers = data.columns\n",
    "\n",
    "feature_dict = config[\"Features\"]\n",
    "\n",
    "features = [] #names of relevant headers\n",
    "for feature in config[\"Features\"].keys():\n",
    "    features.append(feature) # wanted headers\n",
    "\n",
    "allowed_percentage = config[\"Percentage\"][0]\n",
    "number_of_samples = int(config[\"N_samples\"][0])\n",
    "#print(features)\n",
    "\n",
    "print(\"Initialization:\\nconfig file read, input is taken from file with name '\",data_file, \"'\")"
   ]
  },
  {
   "cell_type": "code",
   "execution_count": 78,
   "metadata": {},
   "outputs": [
    {
     "name": "stdout",
     "output_type": "stream",
     "text": [
      "Deleting column Neoplasm Histologic Grade because of 76.64% NAs.\n",
      "Deleting column Treatment Details before PDX because of 94.74% NAs.\n",
      "configured columns: 18\n",
      "number of columns after removing columns that have too many missing values (NAs) or cannot be resolved: 16\n",
      "how many columns have numericals: 3\n"
     ]
    }
   ],
   "source": [
    "#Remove unspecified columns\n",
    "for header in headers:\n",
    "    if not header in features:\n",
    "        data.pop(header)\n",
    "        #print(\"Deleting column\", header, \"because of configuration.\")\n",
    "\n",
    "#Remove columns with to many NAs (missing values)\n",
    "headers = data.columns #fixed list of columns we need\n",
    "for header in headers:\n",
    "    na_percentage = data[header].isna().sum() / len(data[header].index)\n",
    "    #print(\"NA in % for\", header, \":\", na_percentage)\n",
    "    if na_percentage > allowed_percentage:\n",
    "        data.pop(header)\n",
    "        headers = headers.drop(header)\n",
    "        print(\"Deleting column\", header, \"because of\" ,\"{:.2%}\".format(na_percentage), \"NAs.\")\n",
    "\n",
    "#removing unwanted NAs and interpolating others\n",
    "numericals = []\n",
    "for x in headers:\n",
    "    #print(feature_dict, feature_dict[x][0])\n",
    "    if feature_dict[x][0] == \"numerical\":\n",
    "        numericals.append(x)\n",
    "        \n",
    "print(\"configured columns:\",len(features))\n",
    "print(\"number of columns after removing columns that have too many missing values (NAs) or cannot be resolved:\", len(headers))\n",
    "print(\"how many columns have numericals:\", len(numericals))\n",
    "\n",
    "for numerical in numericals:\n",
    "    data[numerical] = pd.to_numeric(data[numerical], errors='coerce')\n",
    "\n",
    "data = data.interpolate(method='pad')"
   ]
  },
  {
   "cell_type": "code",
   "execution_count": 79,
   "metadata": {},
   "outputs": [
    {
     "name": "stdout",
     "output_type": "stream",
     "text": [
      "rows in original data: 1541\n",
      "rows for validation: 462\n"
     ]
    }
   ],
   "source": [
    "#create validation set\n",
    "\n",
    "validation_set = data.sample(frac=0.3)\n",
    "#removal = data.sample(frac=0.9)\n",
    "#data = data.drop(removal.index)\n",
    "validation_set.reset_index()\n",
    "\n",
    "print(\"rows in original data:\", len(data))\n",
    "print(\"rows for validation:\", len(validation_set))"
   ]
  },
  {
   "cell_type": "code",
   "execution_count": 80,
   "metadata": {},
   "outputs": [
    {
     "name": "stdout",
     "output_type": "stream",
     "text": [
      "{'fields': {'Cancer Type Detailed': {'type': 'categorical'}, 'Mutation Count': {'type': 'numerical', 'subtype': 'integer'}, 'Oncotree Code': {'type': 'categorical'}, 'Overall Survival (Months)': {'type': 'numerical', 'subtype': 'float'}, 'Sample Type': {'type': 'categorical'}, 'Diagnosis Age': {'type': 'numerical', 'subtype': 'integer'}, 'TERT': {'type': 'categorical'}, 'IDH1': {'type': 'categorical'}, 'PABPC3': {'type': 'categorical'}, 'PTEN': {'type': 'categorical'}, 'SPRY3': {'type': 'categorical'}, 'MUC12': {'type': 'categorical'}, 'GXYLT1': {'type': 'categorical'}, 'SMARCA4': {'type': 'categorical'}, 'FAT1': {'type': 'categorical'}, 'MUC5B': {'type': 'categorical'}}, 'constraints': []}\n"
     ]
    }
   ],
   "source": [
    "#Generating Metadata for SV\n",
    "metadata = {}\n",
    "metadata[\"fields\"] = {}\n",
    "\n",
    "for x in headers:\n",
    "    metadata[\"fields\"][x] = {}\n",
    "    metadata[\"fields\"][x][\"type\"] = feature_dict[x][0]\n",
    "    if feature_dict[x][0] == \"numerical\":\n",
    "        metadata[\"fields\"][x][\"subtype\"] = feature_dict[x][1]\n",
    "metadata[\"constraints\"] = []\n",
    "\n",
    "print(metadata)"
   ]
  },
  {
   "cell_type": "code",
   "execution_count": 81,
   "metadata": {},
   "outputs": [
    {
     "name": "stdout",
     "output_type": "stream",
     "text": [
      "Making data in iterations:\n",
      "\n",
      "1 .: Writing to output.csv The generated data is 77.30% accurate to the original data. (if unsatisfactory try another config)\n",
      "2 .: Writing to output.csv The generated data is 77.23% accurate to the original data. (if unsatisfactory try another config)\n",
      "3 .: Writing to output.csv The generated data is 77.22% accurate to the original data. (if unsatisfactory try another config)\n",
      "4 .: Writing to output.csv The generated data is 77.13% accurate to the original data. (if unsatisfactory try another config)\n",
      "5 .: Writing to output.csv The generated data is 77.60% accurate to the original data. (if unsatisfactory try another config)\n",
      "6 .: Writing to output.csv The generated data is 76.52% accurate to the original data. (if unsatisfactory try another config)\n",
      "7 .: Writing to output.csv The generated data is 77.85% accurate to the original data. (if unsatisfactory try another config)\n",
      "8 .: Writing to output.csv The generated data is 77.93% accurate to the original data. (if unsatisfactory try another config)\n",
      "9 .: Writing to output.csv The generated data is 77.87% accurate to the original data. (if unsatisfactory try another config)\n",
      "10 .: Writing to output.csv The generated data is 77.66% accurate to the original data. (if unsatisfactory try another config)\n",
      "\n",
      "Accuracies from 10 generated results written to 20combinedtsv_%NaNs_Interpolated_18Features_1541InputLines.csv for statistical analysis.\n",
      "\n",
      "The actual newly generated output with synthetically generated data has been successfully written to output.csv.\n",
      "Use it to hand it over to someone else or tweak your synthetic data by achanging the config.\n"
     ]
    }
   ],
   "source": [
    "#Method to fit model to the data and generate data with SDV's TabularPreset\n",
    "def makeData(x):\n",
    "    model = TabularPreset(name='FAST_ML', metadata=metadata) #SDV's FAST_ML preset uses ML to model your data\n",
    "    model.fit(data)\n",
    "\n",
    "    new_data = model.sample(num_rows=number_of_samples)\n",
    "    new_data = new_data.round(decimals = 2)\n",
    "    new_data.to_csv(target_file, index=False)\n",
    "    print(x+1, \".: Writing to\", str(target_file), \"The generated data is\", \n",
    "          \"{:.2%}\".format(evaluate(new_data, validation_set, metrics=['KSComplement'])), \n",
    "          \"accurate to the original data.\",\n",
    "          \"(if unsatisfactory try another config)\")# using less or diff. features or more data or removing more NAs.\")\n",
    "    \n",
    "    return \"{:.2%}\".format(evaluate(new_data, validation_set, metrics=['KSComplement']))\n",
    "\n",
    "\n",
    "# create the new interpolated data with dynamic file name depending on config params\n",
    "naInPercent = (allowed_percentage*100).astype(int)\n",
    "nrOfFeatures = len(features)\n",
    "nrOfRows = len(data)\n",
    "dataframe = []\n",
    "filename = str(naInPercent)+str(data_file.replace('.', ''))+\"_%NaNs_Interpolated_\"+str(nrOfFeatures)+\"Features_\"+str(nrOfRows)+\"InputLines.csv\"\n",
    "\n",
    "print(\"Making data in iterations:\\n\")\n",
    "for x in range(0,10):\n",
    "    dataframe.append(makeData(x))\n",
    "\n",
    "print(\"\\nAccuracies from\", x+1, \"generated results written to\", filename, \"for statistical analysis.\")\n",
    "print(\"\\nThe actual newly generated output with synthetically generated data has been successfully written to \"+str(target_file)+\".\")\n",
    "print(\"Use it to hand it over to someone else or tweak your synthetic data by achanging the config.\")\n",
    "\n",
    "file = open(filename, \"w\", newline=\"\")\n",
    "\n",
    "writer = csv.writer(file)\n",
    "\n",
    "for val in dataframe:\n",
    "    writer.writerow([val])\n",
    "\n",
    "file.close()"
   ]
  },
  {
   "cell_type": "code",
   "execution_count": null,
   "metadata": {},
   "outputs": [],
   "source": []
  }
 ],
 "metadata": {
  "kernelspec": {
   "display_name": "Python 3 (ipykernel)",
   "language": "python",
   "name": "python3"
  },
  "language_info": {
   "codemirror_mode": {
    "name": "ipython",
    "version": 3
   },
   "file_extension": ".py",
   "mimetype": "text/x-python",
   "name": "python",
   "nbconvert_exporter": "python",
   "pygments_lexer": "ipython3",
   "version": "3.8.13"
  },
  "vscode": {
   "interpreter": {
    "hash": "916dbcbb3f70747c44a77c7bcd40155683ae19c65e1c03b4aa3499c5328201f1"
   }
  }
 },
 "nbformat": 4,
 "nbformat_minor": 2
}
